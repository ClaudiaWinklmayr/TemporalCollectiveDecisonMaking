{
 "cells": [
  {
   "cell_type": "code",
   "execution_count": null,
   "metadata": {},
   "outputs": [],
   "source": [
    "import dichotomos_markov_process as dmp\n",
    "%load_ext autoreload\n",
    "%autoreload 2\n",
    "import matplotlib.pyplot as plt\n",
    "import numpy as np\n",
    "from IPython.display import clear_output"
   ]
  },
  {
   "cell_type": "code",
   "execution_count": null,
   "metadata": {
    "scrolled": true
   },
   "outputs": [],
   "source": [
    "ITERS=100\n",
    "N =51\n",
    "T = 20\n",
    "dt = 0.1\n",
    "rC = 0.3\n",
    "rI = 0.7\n",
    "rate = (3,0.1)\n",
    "\n",
    "params = dmp.init_params(N=N, T=T, dt=dt, rI=rI, rC=rC, rate01=rate[0], rate10=rate[1], cue_updates=10000)\n",
    "print(params)"
   ]
  },
  {
   "cell_type": "markdown",
   "metadata": {},
   "source": [
    "### Accuracy vs. cue usage (for fixed correlated cue)"
   ]
  },
  {
   "cell_type": "code",
   "execution_count": null,
   "metadata": {
    "scrolled": true
   },
   "outputs": [],
   "source": [
    "rates = [(1,0.1), (1, 0.5),  (1.,1.), (1, 1.5), (1,2)]\n",
    "rCs = [0.2, 0.3, 0.4]\n",
    "\n",
    "res = {}\n",
    "for rC in rCs: \n",
    "    res[rC] = []\n",
    "    for rate in rates: \n",
    "        ACC = []\n",
    "        for i in range (ITERS):\n",
    "            params = dmp.init_params(N=N, T=T, dt=dt, rI=rI, rC=rC, rate01=rate[0], rate10=rate[1], cue_updates=10000)\n",
    "            clear_output(wait=True)\n",
    "            print(rate, ': ', i)\n",
    "            decisons = dmp.RandomWalkDMP(params, return_positions=False)\n",
    "            if len(decisons)/N == 1: # check if all indivuduals made a decision\n",
    "                collective_decison = int(sum(decisons)>0)\n",
    "                ACC.append(collective_decison)\n",
    "        res[rC].append(np.mean(ACC))\n"
   ]
  },
  {
   "cell_type": "code",
   "execution_count": null,
   "metadata": {},
   "outputs": [],
   "source": [
    "plt.figure(figsize=(8,4))\n",
    "\n",
    "for rC in rCs: \n",
    "    plt.axhline(y=rC, color='grey', ls='--')\n",
    "    \n",
    "    plt.plot([r[1] for r in rates], res[rC], label=\"rC= \"+str(rC))\n",
    "    plt.ylim(-0.1, 1.1)\n",
    "    #plt.axhline(y=0.2, color='k', ls='--')\n",
    "plt.legend()\n",
    "plt.xlabel('rate10 (from independent to correlated)', size=14)\n",
    "plt.ylabel('accuracy', size=14)\n",
    "plt.title(\"Accuracy as a function of cue change rate\\nN=51, T=20,d t=0.1, corr cue fixed, rate01=1, rI=0.7, ITERS=1000\", size=14)\n",
    "#plt.savefig(\"Accuracy_vs_rate10.png\", dpi=200)"
   ]
  }
 ],
 "metadata": {
  "kernelspec": {
   "display_name": "Python 3",
   "language": "python",
   "name": "python3"
  },
  "language_info": {
   "codemirror_mode": {
    "name": "ipython",
    "version": 3
   },
   "file_extension": ".py",
   "mimetype": "text/x-python",
   "name": "python",
   "nbconvert_exporter": "python",
   "pygments_lexer": "ipython3",
   "version": "3.7.6"
  }
 },
 "nbformat": 4,
 "nbformat_minor": 4
}
