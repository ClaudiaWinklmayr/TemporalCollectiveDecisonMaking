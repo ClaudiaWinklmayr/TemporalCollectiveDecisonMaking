{
 "cells": [
  {
   "cell_type": "markdown",
   "metadata": {},
   "source": [
    "### Modeling information source transitions\n",
    "\n",
    "We assume that each individual $i$ stochastically switch between two different information sources A and B. For simplicity, we assume a random switching between the two sources to be described by the so-called dichotomous Markov process, also known as telegraph or Kac process, widely used to model different biological phenomena \\[see e.g. Potoyan & Wolynes, Dichotomtous noise models of gene switches, J Chem Phys 143 (2015)\\], also in the context of collective movement states \\[Bazazi et al, Nutritional state and collective motion: from individuals to mass migration, Proc Roy Soc B 278 (2010)\\].\n",
    "\n",
    "The probabilities per unit time for a single individual to switch from source A to source B and vice versa are constant and determined by constant probabiluity transition rates $\\lambda_{A\\to B}$  and $\\lambda_{B\\to A}$. The probability to find a single individual \"listening\" to one of the sources over time, $p_{A}$ and $p_{B}$ obey the following master eqations: \n",
    "\n",
    "$$ \\frac{dp_{A}}{dt} = -\\lambda_{A\\to B} p_{A} + \\lambda_{B \\to A} p_{B}\\ ,$$\n",
    "$$ \\frac{dp_{B}}{dt} = +\\lambda_{A\\to B} p_{A} - \\lambda_{B \\to A} p_{B}\\ .$$\n",
    "\n",
    "The first term on the right hand side describes the transition from A to B. It is given by the product of the transition rate $\\lambda_{A\\to B}$ with the probability to observe the individual in state A. The second term accounts in an analogous way for the reverse transition B to A. The individual has to attend to one of the sources\n",
    ", thus the additional constrain must hold at all times: $p_A(t)+p_B(t)=1$. \n",
    "\n",
    "For such a dichotomous Markov process the time duration an individual stays in one of the states are exponentially distributed, and the average time spent in one of the states is given by the inverse of the corresponding transiton rate out of this state:\n",
    "\n",
    "$$ \\tau_{A} = \\frac{1}{\\lambda_{A\\to B}},\\quad  \\tau_{B} = \\frac{1}{\\lambda_{B\\to A}}\\ .$$\n",
    "\n",
    "The probability to find an individual in one of the states over time, or the fraction of individuals in a group in one of the state at a certain point in time, is given by the stationary probabilities $p^*_{A}$ and $p^*_{B}$, that can be calculated from $dp_{A}/dt=dp_{B}/dt=0$:\n",
    "\n",
    "$$ p^*_{A}=1-p^*_{B}=\\frac{\\lambda_{B \\to A}}{\\lambda_{A\\to B} + \\lambda_{B \\to A}}=\\frac{1}{1+\\frac{\\tau_{B}}{\\tau_{A}}}\\ .$$"
   ]
  },
  {
   "cell_type": "code",
   "execution_count": null,
   "metadata": {},
   "outputs": [],
   "source": [
    "import numpy as np\n",
    "import matplotlib.pyplot as plt\n",
    "from numba import jit\n",
    "\n",
    "def DichotomousMarkovProcess(time_steps,rate01=1,rate10=1,dt=0.02):\n",
    "    ''' Simple function to generate a single realization of a dichotomous Markov switchting process'''\n",
    "    state=np.zeros(len(time_steps));\n",
    "    for s in time_steps[1:]:\n",
    "        rnd=np.random.uniform()\n",
    "        if(state[s-1]==0):\n",
    "            state[s]=0;\n",
    "            if(rnd<rate01*dt):\n",
    "                state[s]=1;\n",
    "        else:\n",
    "            state[s]=1;\n",
    "            if(rnd<rate10*dt):\n",
    "                state[s]=0;\n",
    "        \n",
    "    return state"
   ]
  },
  {
   "cell_type": "code",
   "execution_count": null,
   "metadata": {},
   "outputs": [],
   "source": [
    "simtime=10\n",
    "dt=0.02\n",
    "rate01=1\n",
    "rate10=1\n",
    "time_steps=np.arange(0,int(simtime/dt))\n",
    "state=DichotomousMarkovProcess(time_steps,rate01,rate10,dt)"
   ]
  },
  {
   "cell_type": "code",
   "execution_count": null,
   "metadata": {},
   "outputs": [],
   "source": [
    "plt.figure(figsize=(4,2))\n",
    "plt.plot(time_steps*dt,state,'-')\n",
    "plt.xlim([0,simtime])\n",
    "plt.xlabel('time')\n",
    "plt.ylabel('state')\n",
    "plt.yticks([0,1])\n",
    "#plt.savefig('example_DMP.png',dpi=200)"
   ]
  },
  {
   "cell_type": "code",
   "execution_count": null,
   "metadata": {},
   "outputs": [],
   "source": [
    "@jit(nopython=True)\n",
    "def SingleStep(past_state,rate01,rate10,dt):\n",
    "    N=len(past_state)\n",
    "    random_number=np.random.random(N)\n",
    "    new_state=np.zeros(N)\n",
    "    \n",
    "    for n in range(N):\n",
    "        # depending on the state set the right transition rate\n",
    "        if(past_state[n]==-1):\n",
    "            rate=rate01\n",
    "        else:\n",
    "            rate=rate10\n",
    "            \n",
    "        new_state[n]=past_state[n]    \n",
    "        # check whether transition occurs and if so swap sign of the state    \n",
    "        if(random_number[n]<rate*dt):\n",
    "                new_state[n]*=-1\n",
    "       \n",
    "    return new_state\n",
    "\n",
    "def collectiveDMP(initial_state,rate01,rate10,time_steps,dt=0.1):\n",
    "    ''' Simple Run Generating N dimensional / N agents DMP '''\n",
    "    N=len(initial_state)\n",
    "    state=np.zeros((int(time_steps),N))\n",
    "    print(np.shape(state))\n",
    "    state[0,:]=initial_state\n",
    "    for s in range(1,int(time_steps)):\n",
    "        state[s,:]=SingleStep(state[s-1],rate01,rate10,dt)\n",
    "        \n",
    "    return state\n",
    "        "
   ]
  },
  {
   "cell_type": "code",
   "execution_count": null,
   "metadata": {},
   "outputs": [],
   "source": [
    "N=10\n",
    "rate01=2.0\n",
    "rate10=1.0\n",
    "dt=0.1\n",
    "init_state=np.ones(N)\n",
    "random_array=np.random.random(N)\n",
    "p_0=rate10/(rate01+rate10)\n",
    "init_state[random_array<p_0]=-1\n",
    "print(p_0,np.sum(init_state<0)/N)"
   ]
  },
  {
   "cell_type": "code",
   "execution_count": null,
   "metadata": {},
   "outputs": [],
   "source": [
    "time_steps=200\n",
    "states_vs_time=collectiveDMP(init_state,rate01,rate10,time_steps,dt)"
   ]
  },
  {
   "cell_type": "code",
   "execution_count": null,
   "metadata": {},
   "outputs": [],
   "source": [
    "plt.pcolor(states_vs_time.T,cmap='bwr')\n",
    "plt.xlabel('time')\n",
    "plt.ylabel('agent idx')\n"
   ]
  },
  {
   "cell_type": "code",
   "execution_count": null,
   "metadata": {},
   "outputs": [],
   "source": []
  },
  {
   "cell_type": "code",
   "execution_count": null,
   "metadata": {},
   "outputs": [],
   "source": []
  }
 ],
 "metadata": {
  "kernelspec": {
   "display_name": "Python 3",
   "language": "python",
   "name": "python3"
  },
  "language_info": {
   "codemirror_mode": {
    "name": "ipython",
    "version": 3
   },
   "file_extension": ".py",
   "mimetype": "text/x-python",
   "name": "python",
   "nbconvert_exporter": "python",
   "pygments_lexer": "ipython3",
   "version": "3.7.6"
  }
 },
 "nbformat": 4,
 "nbformat_minor": 4
}
